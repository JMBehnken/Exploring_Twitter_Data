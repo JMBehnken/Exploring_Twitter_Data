{
 "cells": [
  {
   "cell_type": "code",
   "execution_count": 1,
   "metadata": {
    "collapsed": true
   },
   "outputs": [],
   "source": [
    "# Import all necessary libraries\n",
    "import tweepy\n",
    "import json\n",
    "import csv"
   ]
  },
  {
   "cell_type": "code",
   "execution_count": 2,
   "metadata": {
    "collapsed": true
   },
   "outputs": [],
   "source": [
    "# Path to the tweepy authentication tokens\n",
    "path_auth = 'Tweepy_Auth.csv'\n",
    "\n",
    "# Path to store the tweets\n",
    "path_user = 'build/'\n",
    "\n",
    "# Name of the follower-json\n",
    "name_json = 'Follower_sendtex.json'\n",
    "\n",
    "# Get all followers of this user-id\n",
    "main_id = 76884535"
   ]
  },
  {
   "cell_type": "code",
   "execution_count": 3,
   "metadata": {
    "collapsed": true
   },
   "outputs": [],
   "source": [
    "# Load tweepy authentication\n",
    "with open(path_auth) as f:\n",
    "    file = list(csv.reader(f))\n",
    "    ckey = file[0][0]\n",
    "    csecret = file[1][0]\n",
    "    atoken = file[2][0]\n",
    "    asecret = file[3][0]"
   ]
  },
  {
   "cell_type": "code",
   "execution_count": 4,
   "metadata": {
    "collapsed": true
   },
   "outputs": [],
   "source": [
    "# Authenticate this App\n",
    "auth = tweepy.OAuthHandler(ckey, csecret)\n",
    "auth.set_access_token(atoken, asecret)\n",
    "\n",
    "# Create the API to query\n",
    "api = tweepy.API(auth,parser=tweepy.parsers.JSONParser())"
   ]
  },
  {
   "cell_type": "code",
   "execution_count": 5,
   "metadata": {
    "collapsed": true
   },
   "outputs": [],
   "source": [
    "def saveUser(user_id):\n",
    "    try:\n",
    "        # Get the main-user data\n",
    "        user = api.get_user(user_id)\n",
    "\n",
    "        # Open the json-file and store the main-user\n",
    "        with open(path_user+name_json, 'a') as f:\n",
    "            json.dump(user, f)\n",
    "    except:\n",
    "        print('Fehler!')"
   ]
  },
  {
   "cell_type": "code",
   "execution_count": 6,
   "metadata": {
    "collapsed": true,
    "scrolled": true
   },
   "outputs": [],
   "source": [
    "# Save the main-user\n",
    "saveUser(main_id)\n",
    "\n",
    "# Get all follower-ids\n",
    "follower = api.followers_ids(main_id)\n",
    "\n",
    "# Iterate over every follower and and store the data\n",
    "for id in follower['ids']:\n",
    "    saveUser(id)"
   ]
  },
  {
   "cell_type": "code",
   "execution_count": null,
   "metadata": {
    "collapsed": true
   },
   "outputs": [],
   "source": []
  }
 ],
 "metadata": {
  "kernelspec": {
   "display_name": "Python 3",
   "language": "python",
   "name": "python3"
  },
  "language_info": {
   "codemirror_mode": {
    "name": "ipython",
    "version": 3
   },
   "file_extension": ".py",
   "mimetype": "text/x-python",
   "name": "python",
   "nbconvert_exporter": "python",
   "pygments_lexer": "ipython3",
   "version": "3.6.1"
  }
 },
 "nbformat": 4,
 "nbformat_minor": 2
}
