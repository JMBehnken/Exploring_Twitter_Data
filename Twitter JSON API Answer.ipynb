{
 "cells": [
  {
   "cell_type": "code",
   "execution_count": 3,
   "metadata": {},
   "outputs": [
    {
     "ename": "NameError",
     "evalue": "name 'json' is not defined",
     "output_type": "error",
     "traceback": [
      "\u001b[0;31m---------------------------------------------------------------------------\u001b[0m",
      "\u001b[0;31mNameError\u001b[0m                                 Traceback (most recent call last)",
      "\u001b[0;32m<ipython-input-3-ff75a3d94524>\u001b[0m in \u001b[0;36m<module>\u001b[0;34m()\u001b[0m\n\u001b[1;32m      7\u001b[0m     \u001b[0;32mfor\u001b[0m \u001b[0mline\u001b[0m \u001b[0;32min\u001b[0m \u001b[0mf\u001b[0m\u001b[0;34m:\u001b[0m\u001b[0;34m\u001b[0m\u001b[0m\n\u001b[1;32m      8\u001b[0m         \u001b[0;31m# Load the Tweet's json-data\u001b[0m\u001b[0;34m\u001b[0m\u001b[0;34m\u001b[0m\u001b[0m\n\u001b[0;32m----> 9\u001b[0;31m         \u001b[0mtweet\u001b[0m \u001b[0;34m=\u001b[0m \u001b[0mjson\u001b[0m\u001b[0;34m.\u001b[0m\u001b[0mloads\u001b[0m\u001b[0;34m(\u001b[0m\u001b[0mline\u001b[0m\u001b[0;34m)\u001b[0m\u001b[0;34m\u001b[0m\u001b[0m\n\u001b[0m\u001b[1;32m     10\u001b[0m \u001b[0;34m\u001b[0m\u001b[0m\n\u001b[1;32m     11\u001b[0m         \u001b[0;31m# Parse the date and retrieve the data\u001b[0m\u001b[0;34m\u001b[0m\u001b[0;34m\u001b[0m\u001b[0m\n",
      "\u001b[0;31mNameError\u001b[0m: name 'json' is not defined"
     ]
    }
   ],
   "source": [
    "# Variable to store the data\n",
    "data = []\n",
    "\n",
    "# Open the stored Tweets\n",
    "with open('/home/jm/Desktop/NiHack/NIHackTwistory/Twitter_API/Example_Twitter_API_Response_for_#maga.json') as f:\n",
    "    # Iterate over every line\n",
    "    for line in f:\n",
    "        # Load the Tweet's json-data\n",
    "        tweet = json.loads(line)\n",
    "        \n",
    "        # Parse the date and retrieve the data\n",
    "        created_at = dateutil.parser.parse(tweet['created_at'])\n",
    "        contributors = tweet['contributors']\n",
    "        coordinates = tweet['coordinates']\n",
    "        favorite_count = tweet['favorite_count']\n",
    "        geo = tweet['geo']\n",
    "        lang =tweet['lang']\n",
    "        place = tweet['place']\n",
    "        retweet_count = tweet['retweet_count']\n",
    "        retweeted = tweet['retweeted']\n",
    "        text = tweet['text']\n",
    "        truncated = tweet['truncated']\n",
    "        \n",
    "        # Store the data of each Tweet\n",
    "        data.append([created_at, contributors, coordinates, favorite_count, geo, lang, place, retweet_count, retweeted, text, truncated])"
   ]
  },
  {
   "cell_type": "code",
   "execution_count": null,
   "metadata": {
    "collapsed": true
   },
   "outputs": [],
   "source": []
  }
 ],
 "metadata": {
  "kernelspec": {
   "display_name": "Python 3",
   "language": "python",
   "name": "python3"
  },
  "language_info": {
   "codemirror_mode": {
    "name": "ipython",
    "version": 3
   },
   "file_extension": ".py",
   "mimetype": "text/x-python",
   "name": "python",
   "nbconvert_exporter": "python",
   "pygments_lexer": "ipython3",
   "version": "3.6.1"
  }
 },
 "nbformat": 4,
 "nbformat_minor": 2
}
